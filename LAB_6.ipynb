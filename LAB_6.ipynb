{
  "nbformat": 4,
  "nbformat_minor": 0,
  "metadata": {
    "colab": {
      "provenance": []
    },
    "kernelspec": {
      "name": "python3",
      "display_name": "Python 3"
    },
    "language_info": {
      "name": "python"
    }
  },
  "cells": [
    {
      "cell_type": "code",
      "execution_count": 1,
      "metadata": {
        "id": "YdsfIio_WyRC"
      },
      "outputs": [],
      "source": [
        "import pandas as pd\n",
        "from mlxtend.frequent_patterns import apriori, association_rules\n",
        "import matplotlib.pyplot as plt"
      ]
    },
    {
      "cell_type": "code",
      "source": [
        "data = pd.read_csv('/content/supermarket_sales - Sheet1.csv', header=None)"
      ],
      "metadata": {
        "colab": {
          "base_uri": "https://localhost:8080/"
        },
        "id": "ceV0FIWaW1Yn",
        "outputId": "6c83e658-c675-49e0-988c-c0515638275f"
      },
      "execution_count": 20,
      "outputs": [
        {
          "output_type": "stream",
          "name": "stderr",
          "text": [
            "/usr/local/lib/python3.10/dist-packages/ipykernel/ipkernel.py:283: DeprecationWarning: `should_run_async` will not call `transform_cell` automatically in the future. Please pass the result to `transformed_cell` argument and any exception that happen during thetransform in `preprocessing_exc_tuple` in IPython 7.17 and above.\n",
            "  and should_run_async(code)\n"
          ]
        }
      ]
    },
    {
      "cell_type": "code",
      "source": [
        "transactions = []\n",
        "for i in range(0, data.shape[0]):\n",
        "    transaction = [str(data.values[i, j]) for j in range(0, data.shape[1]) if str(data.values[i, j]) != 'nan']\n",
        "    transactions.append(transaction)"
      ],
      "metadata": {
        "colab": {
          "base_uri": "https://localhost:8080/"
        },
        "id": "p_f8C7JiW1aX",
        "outputId": "8ccfcc0d-0eb3-4000-a5a7-1ae08c3ea9c6"
      },
      "execution_count": 21,
      "outputs": [
        {
          "output_type": "stream",
          "name": "stderr",
          "text": [
            "/usr/local/lib/python3.10/dist-packages/ipykernel/ipkernel.py:283: DeprecationWarning: `should_run_async` will not call `transform_cell` automatically in the future. Please pass the result to `transformed_cell` argument and any exception that happen during thetransform in `preprocessing_exc_tuple` in IPython 7.17 and above.\n",
            "  and should_run_async(code)\n"
          ]
        }
      ]
    },
    {
      "cell_type": "code",
      "source": [
        "from mlxtend.preprocessing import TransactionEncoder"
      ],
      "metadata": {
        "colab": {
          "base_uri": "https://localhost:8080/"
        },
        "id": "bM9y--PBW1by",
        "outputId": "b319f136-10bb-4fb3-f1a2-c5bda20c47c7"
      },
      "execution_count": 22,
      "outputs": [
        {
          "output_type": "stream",
          "name": "stderr",
          "text": [
            "/usr/local/lib/python3.10/dist-packages/ipykernel/ipkernel.py:283: DeprecationWarning: `should_run_async` will not call `transform_cell` automatically in the future. Please pass the result to `transformed_cell` argument and any exception that happen during thetransform in `preprocessing_exc_tuple` in IPython 7.17 and above.\n",
            "  and should_run_async(code)\n"
          ]
        }
      ]
    },
    {
      "cell_type": "code",
      "source": [
        "te = TransactionEncoder()\n",
        "te_ary = te.fit(transactions).transform(transactions)\n",
        "df = pd.DataFrame(te_ary, columns=te.columns_)"
      ],
      "metadata": {
        "colab": {
          "base_uri": "https://localhost:8080/"
        },
        "id": "3BVuww82W1dt",
        "outputId": "0b92979a-0e95-4fb9-e2bd-9a80a732d41c"
      },
      "execution_count": 23,
      "outputs": [
        {
          "output_type": "stream",
          "name": "stderr",
          "text": [
            "/usr/local/lib/python3.10/dist-packages/ipykernel/ipkernel.py:283: DeprecationWarning: `should_run_async` will not call `transform_cell` automatically in the future. Please pass the result to `transformed_cell` argument and any exception that happen during thetransform in `preprocessing_exc_tuple` in IPython 7.17 and above.\n",
            "  and should_run_async(code)\n"
          ]
        }
      ]
    },
    {
      "cell_type": "code",
      "source": [
        "frequent_itemsets = apriori(df, min_support=0.01, use_colnames=True)"
      ],
      "metadata": {
        "colab": {
          "base_uri": "https://localhost:8080/"
        },
        "id": "14uqopiFW1f1",
        "outputId": "6dc7a92b-8539-47bc-f693-d787a9fbfe06"
      },
      "execution_count": 24,
      "outputs": [
        {
          "output_type": "stream",
          "name": "stderr",
          "text": [
            "/usr/local/lib/python3.10/dist-packages/ipykernel/ipkernel.py:283: DeprecationWarning: `should_run_async` will not call `transform_cell` automatically in the future. Please pass the result to `transformed_cell` argument and any exception that happen during thetransform in `preprocessing_exc_tuple` in IPython 7.17 and above.\n",
            "  and should_run_async(code)\n"
          ]
        }
      ]
    },
    {
      "cell_type": "code",
      "source": [
        "rules = association_rules(frequent_itemsets, metric='confidence', min_threshold=0.2)"
      ],
      "metadata": {
        "colab": {
          "base_uri": "https://localhost:8080/"
        },
        "id": "P71PqSW6W1hp",
        "outputId": "04502973-153b-46b0-bdf6-882d064c3266"
      },
      "execution_count": 25,
      "outputs": [
        {
          "output_type": "stream",
          "name": "stderr",
          "text": [
            "/usr/local/lib/python3.10/dist-packages/ipykernel/ipkernel.py:283: DeprecationWarning: `should_run_async` will not call `transform_cell` automatically in the future. Please pass the result to `transformed_cell` argument and any exception that happen during thetransform in `preprocessing_exc_tuple` in IPython 7.17 and above.\n",
            "  and should_run_async(code)\n"
          ]
        }
      ]
    },
    {
      "cell_type": "code",
      "source": [
        "print(\"Association Rules:\")\n",
        "print(rules)"
      ],
      "metadata": {
        "colab": {
          "base_uri": "https://localhost:8080/"
        },
        "id": "PRaPUqFPW1jl",
        "outputId": "ad43d5ed-fef7-485c-872b-fc902000007e"
      },
      "execution_count": 26,
      "outputs": [
        {
          "output_type": "stream",
          "name": "stdout",
          "text": [
            "Association Rules:\n",
            "                                  antecedents  \\\n",
            "0                                         (1)   \n",
            "1                                         (1)   \n",
            "2                                         (1)   \n",
            "3                                         (1)   \n",
            "4                                         (1)   \n",
            "...                                       ...   \n",
            "38034     (C, Electronic accessories, Normal)   \n",
            "38035  (Cash, Electronic accessories, Normal)   \n",
            "38036                       (Cash, C, Normal)   \n",
            "38037     (Naypyitaw, Electronic accessories)   \n",
            "38038             (C, Electronic accessories)   \n",
            "\n",
            "                                             consequents  antecedent support  \\\n",
            "0                                          (4.761904762)            0.111888   \n",
            "1                                                    (A)            0.111888   \n",
            "2                                                    (B)            0.111888   \n",
            "3                                                    (C)            0.111888   \n",
            "4                                                 (Cash)            0.111888   \n",
            "...                                                  ...                 ...   \n",
            "38034             (Cash, Naypyitaw, 4.761904762, Female)            0.034965   \n",
            "38035                (C, Naypyitaw, 4.761904762, Female)            0.039960   \n",
            "38036  (Naypyitaw, Electronic accessories, 4.76190476...            0.064935   \n",
            "38037             (4.761904762, Female, C, Cash, Normal)            0.054945   \n",
            "38038     (Naypyitaw, 4.761904762, Female, Cash, Normal)            0.054945   \n",
            "\n",
            "       consequent support   support  confidence      lift  leverage  \\\n",
            "0                0.999001  0.111888    1.000000  1.001000  0.000112   \n",
            "1                0.339660  0.035964    0.321429  0.946324 -0.002040   \n",
            "2                0.331668  0.031968    0.285714  0.861446 -0.005142   \n",
            "3                0.327672  0.043956    0.392857  1.198933  0.007293   \n",
            "4                0.343656  0.044955    0.401786  1.169150  0.006504   \n",
            "...                   ...       ...         ...       ...       ...   \n",
            "38034            0.065934  0.012987    0.371429  5.633333  0.010682   \n",
            "38035            0.177822  0.012987    0.325000  1.827669  0.005881   \n",
            "38036            0.027972  0.012987    0.200000  7.150000  0.011171   \n",
            "38037            0.034965  0.012987    0.236364  6.760000  0.011066   \n",
            "38038            0.034965  0.012987    0.236364  6.760000  0.011066   \n",
            "\n",
            "       conviction  zhangs_metric  \n",
            "0             inf       0.001125  \n",
            "1        0.973132      -0.060033  \n",
            "2        0.935664      -0.153333  \n",
            "3        1.107363       0.186829  \n",
            "4        1.097171       0.162905  \n",
            "...           ...            ...  \n",
            "38034    1.486014       0.852285  \n",
            "38035    1.218041       0.471704  \n",
            "38036    1.215035       0.919872  \n",
            "38037    1.263736       0.901610  \n",
            "38038    1.263736       0.901610  \n",
            "\n",
            "[38039 rows x 10 columns]\n"
          ]
        },
        {
          "output_type": "stream",
          "name": "stderr",
          "text": [
            "/usr/local/lib/python3.10/dist-packages/ipykernel/ipkernel.py:283: DeprecationWarning: `should_run_async` will not call `transform_cell` automatically in the future. Please pass the result to `transformed_cell` argument and any exception that happen during thetransform in `preprocessing_exc_tuple` in IPython 7.17 and above.\n",
            "  and should_run_async(code)\n"
          ]
        }
      ]
    },
    {
      "cell_type": "code",
      "source": [
        "plt.scatter(rules['support'], rules['confidence'], alpha=0.5)\n",
        "plt.xlabel('Support')\n",
        "plt.ylabel('Confidence')\n",
        "plt.title('Support vs Confidence')\n",
        "plt.show()"
      ],
      "metadata": {
        "colab": {
          "base_uri": "https://localhost:8080/",
          "height": 527
        },
        "id": "BGliG90aW1ln",
        "outputId": "9e05f187-e214-4091-e3bb-de3d2799d5c2"
      },
      "execution_count": 27,
      "outputs": [
        {
          "output_type": "stream",
          "name": "stderr",
          "text": [
            "/usr/local/lib/python3.10/dist-packages/ipykernel/ipkernel.py:283: DeprecationWarning: `should_run_async` will not call `transform_cell` automatically in the future. Please pass the result to `transformed_cell` argument and any exception that happen during thetransform in `preprocessing_exc_tuple` in IPython 7.17 and above.\n",
            "  and should_run_async(code)\n"
          ]
        },
        {
          "output_type": "display_data",
          "data": {
            "text/plain": [
              "<Figure size 640x480 with 1 Axes>"
            ],
            "image/png": "[encoded data removed]"
          },
          "metadata": {}
        }
      ]
    },
    {
      "cell_type": "code",
      "source": [
        "rules_high_confidence = association_rules(frequent_itemsets, metric='confidence', min_threshold=0.5)"
      ],
      "metadata": {
        "colab": {
          "base_uri": "https://localhost:8080/"
        },
        "id": "yUwUBj37W1np",
        "outputId": "9794717e-acfc-4c07-8938-14b8cd06c2b3"
      },
      "execution_count": 28,
      "outputs": [
        {
          "output_type": "stream",
          "name": "stderr",
          "text": [
            "/usr/local/lib/python3.10/dist-packages/ipykernel/ipkernel.py:283: DeprecationWarning: `should_run_async` will not call `transform_cell` automatically in the future. Please pass the result to `transformed_cell` argument and any exception that happen during thetransform in `preprocessing_exc_tuple` in IPython 7.17 and above.\n",
            "  and should_run_async(code)\n"
          ]
        }
      ]
    },
    {
      "cell_type": "code",
      "source": [
        "print(\"Association Rules with Higher Confidence:\")\n",
        "print(rules_high_confidence)\n"
      ],
      "metadata": {
        "colab": {
          "base_uri": "https://localhost:8080/"
        },
        "id": "SmpAPtSeW1q_",
        "outputId": "e1fcaacc-896e-426d-b424-56fa3967d70a"
      },
      "execution_count": 29,
      "outputs": [
        {
          "output_type": "stream",
          "name": "stdout",
          "text": [
            "Association Rules with Higher Confidence:\n",
            "                                             antecedents  \\\n",
            "0                                                    (1)   \n",
            "1                                                    (1)   \n",
            "2                                                    (1)   \n",
            "3                                             (1/1/2019)   \n",
            "4                                            (1/12/2019)   \n",
            "...                                                  ...   \n",
            "15042  (Cash, Naypyitaw, Electronic accessories, Normal)   \n",
            "15043          (Cash, C, Electronic accessories, Female)   \n",
            "15044        (C, Electronic accessories, Normal, Female)   \n",
            "15045     (Cash, Electronic accessories, Normal, Female)   \n",
            "15046          (Cash, C, Electronic accessories, Normal)   \n",
            "\n",
            "                            consequents  antecedent support  \\\n",
            "0                         (4.761904762)            0.111888   \n",
            "1                                (Male)            0.111888   \n",
            "2                              (Member)            0.111888   \n",
            "3                         (4.761904762)            0.011988   \n",
            "4                         (4.761904762)            0.010989   \n",
            "...                                 ...                 ...   \n",
            "15042          (C, 4.761904762, Female)            0.021978   \n",
            "15043  (Naypyitaw, Normal, 4.761904762)            0.016983   \n",
            "15044    (Cash, Naypyitaw, 4.761904762)            0.018981   \n",
            "15045       (C, Naypyitaw, 4.761904762)            0.018981   \n",
            "15046  (Naypyitaw, 4.761904762, Female)            0.021978   \n",
            "\n",
            "       consequent support   support  confidence      lift  leverage  \\\n",
            "0                0.999001  0.111888    1.000000  1.001000  0.000112   \n",
            "1                0.498501  0.066933    0.598214  1.200025  0.011157   \n",
            "2                0.500500  0.056943    0.508929  1.016841  0.000943   \n",
            "3                0.999001  0.011988    1.000000  1.001000  0.000012   \n",
            "4                0.999001  0.010989    1.000000  1.001000  0.000011   \n",
            "...                   ...       ...         ...       ...       ...   \n",
            "15042            0.177822  0.012987    0.590909  3.323034  0.009079   \n",
            "15043            0.158841  0.012987    0.764706  4.814280  0.010289   \n",
            "15044            0.123876  0.012987    0.684211  5.523345  0.010636   \n",
            "15045            0.327672  0.012987    0.684211  2.088094  0.006767   \n",
            "15046            0.177822  0.012987    0.590909  3.323034  0.009079   \n",
            "\n",
            "       conviction  zhangs_metric  \n",
            "0             inf       0.001125  \n",
            "1        1.248174       0.187684  \n",
            "2        1.017165       0.018649  \n",
            "3             inf       0.001011  \n",
            "4             inf       0.001010  \n",
            "...           ...            ...  \n",
            "15042    2.009768       0.714780  \n",
            "15043    3.574925       0.805972  \n",
            "15044    2.774392       0.834796  \n",
            "15045    2.129038       0.531177  \n",
            "15046    2.009768       0.714780  \n",
            "\n",
            "[15047 rows x 10 columns]\n"
          ]
        },
        {
          "output_type": "stream",
          "name": "stderr",
          "text": [
            "/usr/local/lib/python3.10/dist-packages/ipykernel/ipkernel.py:283: DeprecationWarning: `should_run_async` will not call `transform_cell` automatically in the future. Please pass the result to `transformed_cell` argument and any exception that happen during thetransform in `preprocessing_exc_tuple` in IPython 7.17 and above.\n",
            "  and should_run_async(code)\n"
          ]
        }
      ]
    },
    {
      "cell_type": "code",
      "source": [
        "import pandas as pd\n",
        "from mlxtend.frequent_patterns import apriori, association_rules"
      ],
      "metadata": {
        "colab": {
          "base_uri": "https://localhost:8080/"
        },
        "id": "v3p0guxSXOuG",
        "outputId": "371b6258-e484-4892-83d9-3a9084d0f38d"
      },
      "execution_count": 30,
      "outputs": [
        {
          "output_type": "stream",
          "name": "stderr",
          "text": [
            "/usr/local/lib/python3.10/dist-packages/ipykernel/ipkernel.py:283: DeprecationWarning: `should_run_async` will not call `transform_cell` automatically in the future. Please pass the result to `transformed_cell` argument and any exception that happen during thetransform in `preprocessing_exc_tuple` in IPython 7.17 and above.\n",
            "  and should_run_async(code)\n"
          ]
        }
      ]
    },
    {
      "cell_type": "code",
      "source": [
        "data = {\n",
        "    'milk': [1, 1, 1, 0, 0],\n",
        "    'bread': [1, 1, 0, 1, 1],\n",
        "    'butter': [0, 1, 1, 1, 1],\n",
        "    'jam': [0, 1, 0, 0, 1],\n",
        "    'cereal': [1, 0, 0, 1, 1]\n",
        "}\n"
      ],
      "metadata": {
        "colab": {
          "base_uri": "https://localhost:8080/"
        },
        "id": "k9fW8RMUXOvt",
        "outputId": "f8094d98-b72f-48e6-a94d-73f1cbf3b128"
      },
      "execution_count": 31,
      "outputs": [
        {
          "output_type": "stream",
          "name": "stderr",
          "text": [
            "/usr/local/lib/python3.10/dist-packages/ipykernel/ipkernel.py:283: DeprecationWarning: `should_run_async` will not call `transform_cell` automatically in the future. Please pass the result to `transformed_cell` argument and any exception that happen during thetransform in `preprocessing_exc_tuple` in IPython 7.17 and above.\n",
            "  and should_run_async(code)\n"
          ]
        }
      ]
    },
    {
      "cell_type": "code",
      "source": [
        "df = pd.DataFrame(data)"
      ],
      "metadata": {
        "colab": {
          "base_uri": "https://localhost:8080/"
        },
        "id": "5VhlwCQBXOxP",
        "outputId": "26c5cde8-24dd-4f06-b434-2896a31467f0"
      },
      "execution_count": 32,
      "outputs": [
        {
          "output_type": "stream",
          "name": "stderr",
          "text": [
            "/usr/local/lib/python3.10/dist-packages/ipykernel/ipkernel.py:283: DeprecationWarning: `should_run_async` will not call `transform_cell` automatically in the future. Please pass the result to `transformed_cell` argument and any exception that happen during thetransform in `preprocessing_exc_tuple` in IPython 7.17 and above.\n",
            "  and should_run_async(code)\n"
          ]
        }
      ]
    },
    {
      "cell_type": "code",
      "source": [
        "print(\"Dataset:\")\n",
        "print(df)\n"
      ],
      "metadata": {
        "colab": {
          "base_uri": "https://localhost:8080/"
        },
        "id": "HR18GPPaXOzW",
        "outputId": "6c222a18-a4d3-42bc-cf86-715cde5e67cc"
      },
      "execution_count": 33,
      "outputs": [
        {
          "output_type": "stream",
          "name": "stdout",
          "text": [
            "Dataset:\n",
            "   milk  bread  butter  jam  cereal\n",
            "0     1      1       0    0       1\n",
            "1     1      1       1    1       0\n",
            "2     1      0       1    0       0\n",
            "3     0      1       1    0       1\n",
            "4     0      1       1    1       1\n"
          ]
        },
        {
          "output_type": "stream",
          "name": "stderr",
          "text": [
            "/usr/local/lib/python3.10/dist-packages/ipykernel/ipkernel.py:283: DeprecationWarning: `should_run_async` will not call `transform_cell` automatically in the future. Please pass the result to `transformed_cell` argument and any exception that happen during thetransform in `preprocessing_exc_tuple` in IPython 7.17 and above.\n",
            "  and should_run_async(code)\n"
          ]
        }
      ]
    },
    {
      "cell_type": "code",
      "source": [
        "frequent_itemsets = apriori(df, min_support=0.6, use_colnames=True)"
      ],
      "metadata": {
        "colab": {
          "base_uri": "https://localhost:8080/"
        },
        "id": "eskA4uavXO27",
        "outputId": "4cd30392-cfbb-4337-d192-e3af73901e67"
      },
      "execution_count": 34,
      "outputs": [
        {
          "output_type": "stream",
          "name": "stderr",
          "text": [
            "/usr/local/lib/python3.10/dist-packages/ipykernel/ipkernel.py:283: DeprecationWarning: `should_run_async` will not call `transform_cell` automatically in the future. Please pass the result to `transformed_cell` argument and any exception that happen during thetransform in `preprocessing_exc_tuple` in IPython 7.17 and above.\n",
            "  and should_run_async(code)\n",
            "/usr/local/lib/python3.10/dist-packages/mlxtend/frequent_patterns/fpcommon.py:109: DeprecationWarning: DataFrames with non-bool types result in worse computationalperformance and their support might be discontinued in the future.Please use a DataFrame with bool type\n",
            "  warnings.warn(\n"
          ]
        }
      ]
    },
    {
      "cell_type": "code",
      "source": [
        "print(\"\\nFrequent Itemsets:\")\n",
        "print(frequent_itemsets)\n"
      ],
      "metadata": {
        "colab": {
          "base_uri": "https://localhost:8080/"
        },
        "id": "f5ZB0fD8XPBo",
        "outputId": "8f868f36-63ca-4ed6-d739-1e9ae9784da3"
      },
      "execution_count": 35,
      "outputs": [
        {
          "output_type": "stream",
          "name": "stdout",
          "text": [
            "\n",
            "Frequent Itemsets:\n",
            "   support         itemsets\n",
            "0      0.6           (milk)\n",
            "1      0.8          (bread)\n",
            "2      0.8         (butter)\n",
            "3      0.6         (cereal)\n",
            "4      0.6  (butter, bread)\n",
            "5      0.6  (cereal, bread)\n"
          ]
        },
        {
          "output_type": "stream",
          "name": "stderr",
          "text": [
            "/usr/local/lib/python3.10/dist-packages/ipykernel/ipkernel.py:283: DeprecationWarning: `should_run_async` will not call `transform_cell` automatically in the future. Please pass the result to `transformed_cell` argument and any exception that happen during thetransform in `preprocessing_exc_tuple` in IPython 7.17 and above.\n",
            "  and should_run_async(code)\n"
          ]
        }
      ]
    },
    {
      "cell_type": "code",
      "source": [
        "rules = association_rules(frequent_itemsets, metric='confidence', min_threshold=0.7)"
      ],
      "metadata": {
        "colab": {
          "base_uri": "https://localhost:8080/"
        },
        "id": "As9DMde1XPDt",
        "outputId": "771120af-ff10-45ca-fc51-625b1a912083"
      },
      "execution_count": 36,
      "outputs": [
        {
          "output_type": "stream",
          "name": "stderr",
          "text": [
            "/usr/local/lib/python3.10/dist-packages/ipykernel/ipkernel.py:283: DeprecationWarning: `should_run_async` will not call `transform_cell` automatically in the future. Please pass the result to `transformed_cell` argument and any exception that happen during thetransform in `preprocessing_exc_tuple` in IPython 7.17 and above.\n",
            "  and should_run_async(code)\n"
          ]
        }
      ]
    },
    {
      "cell_type": "code",
      "source": [
        "print(\"\\nAssociation Rules:\")\n",
        "print(rules)"
      ],
      "metadata": {
        "colab": {
          "base_uri": "https://localhost:8080/"
        },
        "id": "4ZjsAJt0XPFW",
        "outputId": "1ee405e6-d8b4-4a9f-f07a-760610a0ec00"
      },
      "execution_count": 37,
      "outputs": [
        {
          "output_type": "stream",
          "name": "stdout",
          "text": [
            "\n",
            "Association Rules:\n",
            "  antecedents consequents  antecedent support  consequent support  support  \\\n",
            "0    (butter)     (bread)                 0.8                 0.8      0.6   \n",
            "1     (bread)    (butter)                 0.8                 0.8      0.6   \n",
            "2    (cereal)     (bread)                 0.6                 0.8      0.6   \n",
            "3     (bread)    (cereal)                 0.8                 0.6      0.6   \n",
            "\n",
            "   confidence    lift  leverage  conviction  zhangs_metric  \n",
            "0        0.75  0.9375     -0.04         0.8          -0.25  \n",
            "1        0.75  0.9375     -0.04         0.8          -0.25  \n",
            "2        1.00  1.2500      0.12         inf           0.50  \n",
            "3        0.75  1.2500      0.12         1.6           1.00  \n"
          ]
        },
        {
          "output_type": "stream",
          "name": "stderr",
          "text": [
            "/usr/local/lib/python3.10/dist-packages/ipykernel/ipkernel.py:283: DeprecationWarning: `should_run_async` will not call `transform_cell` automatically in the future. Please pass the result to `transformed_cell` argument and any exception that happen during thetransform in `preprocessing_exc_tuple` in IPython 7.17 and above.\n",
            "  and should_run_async(code)\n"
          ]
        }
      ]
    }
  ]
}